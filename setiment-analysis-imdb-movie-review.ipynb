{
 "cells": [
  {
   "cell_type": "code",
   "execution_count": 2,
   "id": "1672de5f",
   "metadata": {
    "_cell_guid": "b1076dfc-b9ad-4769-8c92-a6c4dae69d19",
    "_uuid": "8f2839f25d086af736a60e9eeb907d3b93b6e0e5",
    "execution": {
     "iopub.execute_input": "2022-12-24T04:20:14.341179Z",
     "iopub.status.busy": "2022-12-24T04:20:14.340080Z",
     "iopub.status.idle": "2022-12-24T04:20:14.361361Z",
     "shell.execute_reply": "2022-12-24T04:20:14.360178Z"
    },
    "papermill": {
     "duration": 0.034962,
     "end_time": "2022-12-24T04:20:14.364197",
     "exception": false,
     "start_time": "2022-12-24T04:20:14.329235",
     "status": "completed"
    },
    "tags": []
   },
   "outputs": [],
   "source": [
    "import numpy as np # linear algebra\n",
    "import pandas as pd # data processing, CSV file I/O (e.g. pd.read_csv)\n",
    "\n"
   ]
  },
  {
   "cell_type": "code",
   "execution_count": 3,
   "id": "76741ef3",
   "metadata": {
    "execution": {
     "iopub.execute_input": "2022-12-24T04:20:14.381313Z",
     "iopub.status.busy": "2022-12-24T04:20:14.380895Z",
     "iopub.status.idle": "2022-12-24T04:20:15.978346Z",
     "shell.execute_reply": "2022-12-24T04:20:15.977018Z"
    },
    "papermill": {
     "duration": 1.608657,
     "end_time": "2022-12-24T04:20:15.981020",
     "exception": false,
     "start_time": "2022-12-24T04:20:14.372363",
     "status": "completed"
    },
    "tags": []
   },
   "outputs": [
    {
     "data": {
      "text/html": [
       "<div>\n",
       "<style scoped>\n",
       "    .dataframe tbody tr th:only-of-type {\n",
       "        vertical-align: middle;\n",
       "    }\n",
       "\n",
       "    .dataframe tbody tr th {\n",
       "        vertical-align: top;\n",
       "    }\n",
       "\n",
       "    .dataframe thead th {\n",
       "        text-align: right;\n",
       "    }\n",
       "</style>\n",
       "<table border=\"1\" class=\"dataframe\">\n",
       "  <thead>\n",
       "    <tr style=\"text-align: right;\">\n",
       "      <th></th>\n",
       "      <th>review</th>\n",
       "      <th>sentiment</th>\n",
       "    </tr>\n",
       "  </thead>\n",
       "  <tbody>\n",
       "    <tr>\n",
       "      <th>0</th>\n",
       "      <td>One of the other reviewers has mentioned that ...</td>\n",
       "      <td>1</td>\n",
       "    </tr>\n",
       "    <tr>\n",
       "      <th>1</th>\n",
       "      <td>A wonderful little production. &lt;br /&gt;&lt;br /&gt;The...</td>\n",
       "      <td>1</td>\n",
       "    </tr>\n",
       "    <tr>\n",
       "      <th>2</th>\n",
       "      <td>I thought this was a wonderful way to spend ti...</td>\n",
       "      <td>1</td>\n",
       "    </tr>\n",
       "    <tr>\n",
       "      <th>3</th>\n",
       "      <td>Basically there's a family where a little boy ...</td>\n",
       "      <td>0</td>\n",
       "    </tr>\n",
       "    <tr>\n",
       "      <th>4</th>\n",
       "      <td>Petter Mattei's \"Love in the Time of Money\" is...</td>\n",
       "      <td>1</td>\n",
       "    </tr>\n",
       "  </tbody>\n",
       "</table>\n",
       "</div>"
      ],
      "text/plain": [
       "                                              review  sentiment\n",
       "0  One of the other reviewers has mentioned that ...          1\n",
       "1  A wonderful little production. <br /><br />The...          1\n",
       "2  I thought this was a wonderful way to spend ti...          1\n",
       "3  Basically there's a family where a little boy ...          0\n",
       "4  Petter Mattei's \"Love in the Time of Money\" is...          1"
      ]
     },
     "execution_count": 3,
     "metadata": {},
     "output_type": "execute_result"
    }
   ],
   "source": [
    "messages =  pd.read_csv('IMDB Dataset.csv')\n",
    "# categorical to numerical value\n",
    "messages['sentiment'].replace({'positive':1, 'negative':0}, inplace  = True)\n",
    "messages.head()"
   ]
  },
  {
   "cell_type": "code",
   "execution_count": 4,
   "id": "61b287b3",
   "metadata": {
    "execution": {
     "iopub.execute_input": "2022-12-24T04:20:15.997926Z",
     "iopub.status.busy": "2022-12-24T04:20:15.996649Z",
     "iopub.status.idle": "2022-12-24T04:20:17.570621Z",
     "shell.execute_reply": "2022-12-24T04:20:17.569442Z"
    },
    "papermill": {
     "duration": 1.585076,
     "end_time": "2022-12-24T04:20:17.573347",
     "exception": false,
     "start_time": "2022-12-24T04:20:15.988271",
     "status": "completed"
    },
    "tags": []
   },
   "outputs": [],
   "source": [
    "import nltk\n",
    "import re\n",
    "from nltk.corpus import stopwords\n",
    "from nltk.stem.porter import PorterStemmer\n",
    "from nltk.stem import WordNetLemmatizer"
   ]
  },
  {
   "cell_type": "markdown",
   "id": "2676db40",
   "metadata": {
    "papermill": {
     "duration": 0.006634,
     "end_time": "2022-12-24T04:20:17.587164",
     "exception": false,
     "start_time": "2022-12-24T04:20:17.580530",
     "status": "completed"
    },
    "tags": []
   },
   "source": [
    "**Cleaning the dataset**"
   ]
  },
  {
   "cell_type": "code",
   "execution_count": 6,
   "id": "da933e72",
   "metadata": {
    "execution": {
     "iopub.execute_input": "2022-12-24T04:20:17.604054Z",
     "iopub.status.busy": "2022-12-24T04:20:17.603301Z",
     "iopub.status.idle": "2022-12-24T04:20:19.569980Z",
     "shell.execute_reply": "2022-12-24T04:20:19.568592Z"
    },
    "papermill": {
     "duration": 1.978154,
     "end_time": "2022-12-24T04:20:19.572699",
     "exception": false,
     "start_time": "2022-12-24T04:20:17.594545",
     "status": "completed"
    },
    "tags": []
   },
   "outputs": [],
   "source": [
    "# clean html tags\n",
    "def clean_html(text):\n",
    "    clean = re.compile('<*?>')\n",
    "    return re.sub(clean, '', text)\n",
    "\n",
    "messages['review'] = messages['review'].apply(clean_html)"
   ]
  },
  {
   "cell_type": "code",
   "execution_count": 7,
   "id": "df2c107c",
   "metadata": {
    "execution": {
     "iopub.execute_input": "2022-12-24T04:20:19.590625Z",
     "iopub.status.busy": "2022-12-24T04:20:19.590186Z",
     "iopub.status.idle": "2022-12-24T04:20:19.739146Z",
     "shell.execute_reply": "2022-12-24T04:20:19.737872Z"
    },
    "papermill": {
     "duration": 0.161614,
     "end_time": "2022-12-24T04:20:19.741809",
     "exception": false,
     "start_time": "2022-12-24T04:20:19.580195",
     "status": "completed"
    },
    "tags": []
   },
   "outputs": [],
   "source": [
    "# convert to lower\n",
    "def convert_lower(text):\n",
    "    return text.lower()\n",
    "\n",
    "messages['review'] = messages['review'].apply(convert_lower)\n"
   ]
  },
  {
   "cell_type": "code",
   "execution_count": 8,
   "id": "b815aa08",
   "metadata": {
    "execution": {
     "iopub.execute_input": "2022-12-24T04:20:19.759020Z",
     "iopub.status.busy": "2022-12-24T04:20:19.758510Z",
     "iopub.status.idle": "2022-12-24T04:20:31.234397Z",
     "shell.execute_reply": "2022-12-24T04:20:31.233215Z"
    },
    "papermill": {
     "duration": 11.488266,
     "end_time": "2022-12-24T04:20:31.237435",
     "exception": false,
     "start_time": "2022-12-24T04:20:19.749169",
     "status": "completed"
    },
    "tags": []
   },
   "outputs": [],
   "source": [
    "# remove special characters\n",
    "def remove_special(text):\n",
    "    x=''\n",
    "    for i in text:\n",
    "        if i.isalnum():\n",
    "            x=x+i\n",
    "        else:\n",
    "            x=x+' '\n",
    "    return x\n",
    "\n",
    "messages['review'] = messages['review'].apply(remove_special)"
   ]
  },
  {
   "cell_type": "code",
   "execution_count": 9,
   "id": "bdc564bf",
   "metadata": {
    "execution": {
     "iopub.execute_input": "2022-12-24T04:20:31.256829Z",
     "iopub.status.busy": "2022-12-24T04:20:31.256138Z",
     "iopub.status.idle": "2022-12-24T04:47:36.012489Z",
     "shell.execute_reply": "2022-12-24T04:47:36.011121Z"
    },
    "papermill": {
     "duration": 1624.76969,
     "end_time": "2022-12-24T04:47:36.015862",
     "exception": false,
     "start_time": "2022-12-24T04:20:31.246172",
     "status": "completed"
    },
    "tags": []
   },
   "outputs": [],
   "source": [
    "# remove stopwords\n",
    "def remove_stopwords(text):\n",
    "    x=[]\n",
    "    for i in text.split():\n",
    "        if i not in stopwords.words('english'):\n",
    "            x.append(i)\n",
    "    y = x[:]\n",
    "    x.clear()\n",
    "    return y\n",
    "\n",
    "messages['review'] = messages['review'].apply(remove_stopwords)\n",
    "# corpus "
   ]
  },
  {
   "cell_type": "code",
   "execution_count": 10,
   "id": "26117a7f",
   "metadata": {
    "execution": {
     "iopub.execute_input": "2022-12-24T04:47:36.033196Z",
     "iopub.status.busy": "2022-12-24T04:47:36.032707Z",
     "iopub.status.idle": "2022-12-24T04:50:27.983666Z",
     "shell.execute_reply": "2022-12-24T04:50:27.982103Z"
    },
    "papermill": {
     "duration": 171.963007,
     "end_time": "2022-12-24T04:50:27.986611",
     "exception": false,
     "start_time": "2022-12-24T04:47:36.023604",
     "status": "completed"
    },
    "tags": []
   },
   "outputs": [],
   "source": [
    "ps = PorterStemmer()\n",
    "lem = WordNetLemmatizer()\n",
    "\n",
    "x = []\n",
    "\n",
    "def stemming(text):\n",
    "    for i in text:\n",
    "        x.append(ps.stem(i))\n",
    "    y=x[:]\n",
    "    x.clear()\n",
    "    return y\n",
    "    \n",
    "\n",
    "messages['review'] = messages['review'].apply(stemming)\n",
    "# messages['review'].head()"
   ]
  },
  {
   "cell_type": "code",
   "execution_count": 11,
   "id": "83e91799",
   "metadata": {
    "execution": {
     "iopub.execute_input": "2022-12-24T04:50:28.004419Z",
     "iopub.status.busy": "2022-12-24T04:50:28.003951Z",
     "iopub.status.idle": "2022-12-24T04:50:28.356624Z",
     "shell.execute_reply": "2022-12-24T04:50:28.355017Z"
    },
    "papermill": {
     "duration": 0.365484,
     "end_time": "2022-12-24T04:50:28.359510",
     "exception": false,
     "start_time": "2022-12-24T04:50:27.994026",
     "status": "completed"
    },
    "tags": []
   },
   "outputs": [],
   "source": [
    "# join back the list\n",
    "\n",
    "def join_back(text):\n",
    "    return ' '.join(text)\n",
    "    \n",
    "messages['review'] = messages['review'].apply(join_back)\n",
    "corpus = messages['review']\n",
    "# messages['review'].head()"
   ]
  },
  {
   "cell_type": "markdown",
   "id": "6128e7d3",
   "metadata": {
    "papermill": {
     "duration": 0.00685,
     "end_time": "2022-12-24T04:50:28.373342",
     "exception": false,
     "start_time": "2022-12-24T04:50:28.366492",
     "status": "completed"
    },
    "tags": []
   },
   "source": [
    "**Count vectorizer & TFID**"
   ]
  },
  {
   "cell_type": "code",
   "execution_count": 12,
   "id": "0e306737",
   "metadata": {
    "execution": {
     "iopub.execute_input": "2022-12-24T04:50:28.389248Z",
     "iopub.status.busy": "2022-12-24T04:50:28.388815Z",
     "iopub.status.idle": "2022-12-24T04:50:28.394267Z",
     "shell.execute_reply": "2022-12-24T04:50:28.393138Z"
    },
    "papermill": {
     "duration": 0.016158,
     "end_time": "2022-12-24T04:50:28.396539",
     "exception": false,
     "start_time": "2022-12-24T04:50:28.380381",
     "status": "completed"
    },
    "tags": []
   },
   "outputs": [],
   "source": [
    "from sklearn.feature_extraction.text import CountVectorizer,TfidfVectorizer"
   ]
  },
  {
   "cell_type": "code",
   "execution_count": 13,
   "id": "6ee03747",
   "metadata": {
    "execution": {
     "iopub.execute_input": "2022-12-24T04:50:28.413152Z",
     "iopub.status.busy": "2022-12-24T04:50:28.412716Z",
     "iopub.status.idle": "2022-12-24T04:53:05.822258Z",
     "shell.execute_reply": "2022-12-24T04:53:05.820985Z"
    },
    "papermill": {
     "duration": 157.42076,
     "end_time": "2022-12-24T04:53:05.824987",
     "exception": false,
     "start_time": "2022-12-24T04:50:28.404227",
     "status": "completed"
    },
    "tags": []
   },
   "outputs": [],
   "source": [
    "cv = CountVectorizer(ngram_range=(1,3))\n",
    "tv = TfidfVectorizer(ngram_range=(1,3))\n",
    "X1 = cv.fit_transform(corpus)\n",
    "X2 = tv.fit_transform(corpus)\n",
    "\n",
    "y = messages['sentiment']"
   ]
  },
  {
   "cell_type": "markdown",
   "id": "76637b8c",
   "metadata": {
    "papermill": {
     "duration": 0.006696,
     "end_time": "2022-12-24T04:53:05.839136",
     "exception": false,
     "start_time": "2022-12-24T04:53:05.832440",
     "status": "completed"
    },
    "tags": []
   },
   "source": [
    "**Splitting to train & test set**"
   ]
  },
  {
   "cell_type": "code",
   "execution_count": 14,
   "id": "1cc6a2a7",
   "metadata": {
    "execution": {
     "iopub.execute_input": "2022-12-24T04:53:05.854911Z",
     "iopub.status.busy": "2022-12-24T04:53:05.854472Z",
     "iopub.status.idle": "2022-12-24T04:53:05.859574Z",
     "shell.execute_reply": "2022-12-24T04:53:05.858459Z"
    },
    "papermill": {
     "duration": 0.015847,
     "end_time": "2022-12-24T04:53:05.861906",
     "exception": false,
     "start_time": "2022-12-24T04:53:05.846059",
     "status": "completed"
    },
    "tags": []
   },
   "outputs": [],
   "source": [
    "from sklearn.model_selection import train_test_split"
   ]
  },
  {
   "cell_type": "code",
   "execution_count": 15,
   "id": "77fe4c18",
   "metadata": {
    "execution": {
     "iopub.execute_input": "2022-12-24T04:53:05.877453Z",
     "iopub.status.busy": "2022-12-24T04:53:05.877044Z",
     "iopub.status.idle": "2022-12-24T04:53:06.048240Z",
     "shell.execute_reply": "2022-12-24T04:53:06.047140Z"
    },
    "papermill": {
     "duration": 0.182171,
     "end_time": "2022-12-24T04:53:06.050995",
     "exception": false,
     "start_time": "2022-12-24T04:53:05.868824",
     "status": "completed"
    },
    "tags": []
   },
   "outputs": [],
   "source": [
    "X1_train, X1_test, y_train, y_test = train_test_split(X1,y,test_size=.3,random_state=1)\n",
    "X2_train, X2_test, y_train, y_test = train_test_split(X2,y,test_size=.3,random_state=1)\n"
   ]
  },
  {
   "cell_type": "markdown",
   "id": "959e6a92",
   "metadata": {
    "papermill": {
     "duration": 0.006637,
     "end_time": "2022-12-24T04:53:06.064694",
     "exception": false,
     "start_time": "2022-12-24T04:53:06.058057",
     "status": "completed"
    },
    "tags": []
   },
   "source": [
    "**Multinomial Naive Bayes for bag of words and tfidf features**"
   ]
  },
  {
   "cell_type": "code",
   "execution_count": 16,
   "id": "d23fec94",
   "metadata": {
    "execution": {
     "iopub.execute_input": "2022-12-24T04:53:06.080630Z",
     "iopub.status.busy": "2022-12-24T04:53:06.080194Z",
     "iopub.status.idle": "2022-12-24T04:53:06.088246Z",
     "shell.execute_reply": "2022-12-24T04:53:06.087057Z"
    },
    "papermill": {
     "duration": 0.019148,
     "end_time": "2022-12-24T04:53:06.090751",
     "exception": false,
     "start_time": "2022-12-24T04:53:06.071603",
     "status": "completed"
    },
    "tags": []
   },
   "outputs": [],
   "source": [
    "from sklearn.naive_bayes import MultinomialNB"
   ]
  },
  {
   "cell_type": "code",
   "execution_count": 17,
   "id": "1675d00c",
   "metadata": {
    "execution": {
     "iopub.execute_input": "2022-12-24T04:53:06.106716Z",
     "iopub.status.busy": "2022-12-24T04:53:06.106279Z",
     "iopub.status.idle": "2022-12-24T04:53:08.384906Z",
     "shell.execute_reply": "2022-12-24T04:53:08.383660Z"
    },
    "papermill": {
     "duration": 2.28983,
     "end_time": "2022-12-24T04:53:08.387665",
     "exception": false,
     "start_time": "2022-12-24T04:53:06.097835",
     "status": "completed"
    },
    "tags": []
   },
   "outputs": [],
   "source": [
    "model_bow = MultinomialNB().fit(X1_train, y_train)\n",
    "model_tfid = MultinomialNB().fit(X2_train, y_train)\n",
    "\n",
    "y_pred1 = model_bow.predict(X1_test)  #using bag of words\n",
    "y_pred2 = model_tfid.predict(X2_test) #using tfid"
   ]
  },
  {
   "cell_type": "code",
   "execution_count": 18,
   "id": "3bd5fba4",
   "metadata": {
    "execution": {
     "iopub.execute_input": "2022-12-24T04:53:08.403706Z",
     "iopub.status.busy": "2022-12-24T04:53:08.403261Z",
     "iopub.status.idle": "2022-12-24T04:53:08.408209Z",
     "shell.execute_reply": "2022-12-24T04:53:08.407031Z"
    },
    "papermill": {
     "duration": 0.016144,
     "end_time": "2022-12-24T04:53:08.410961",
     "exception": false,
     "start_time": "2022-12-24T04:53:08.394817",
     "status": "completed"
    },
    "tags": []
   },
   "outputs": [],
   "source": [
    "from sklearn.metrics import confusion_matrix,accuracy_score"
   ]
  },
  {
   "cell_type": "code",
   "execution_count": 19,
   "id": "b04e013d",
   "metadata": {
    "execution": {
     "iopub.execute_input": "2022-12-24T04:53:08.427077Z",
     "iopub.status.busy": "2022-12-24T04:53:08.426372Z",
     "iopub.status.idle": "2022-12-24T04:53:08.440451Z",
     "shell.execute_reply": "2022-12-24T04:53:08.438862Z"
    },
    "papermill": {
     "duration": 0.024995,
     "end_time": "2022-12-24T04:53:08.442992",
     "exception": false,
     "start_time": "2022-12-24T04:53:08.417997",
     "status": "completed"
    },
    "tags": []
   },
   "outputs": [
    {
     "name": "stdout",
     "output_type": "stream",
     "text": [
      "[[6799  722]\n",
      " [ 972 6507]]\n",
      "[[6708  813]\n",
      " [ 845 6634]]\n"
     ]
    }
   ],
   "source": [
    "result_bow =confusion_matrix(y_test,y_pred1)\n",
    "result_tfid =confusion_matrix(y_test,y_pred2)\n",
    "\n",
    "print(result_bow)\n",
    "print(result_tfid)"
   ]
  },
  {
   "cell_type": "code",
   "execution_count": 21,
   "id": "5121b530",
   "metadata": {
    "execution": {
     "iopub.execute_input": "2022-12-24T04:53:08.458673Z",
     "iopub.status.busy": "2022-12-24T04:53:08.458240Z",
     "iopub.status.idle": "2022-12-24T04:53:08.468403Z",
     "shell.execute_reply": "2022-12-24T04:53:08.466859Z"
    },
    "papermill": {
     "duration": 0.021015,
     "end_time": "2022-12-24T04:53:08.471014",
     "exception": false,
     "start_time": "2022-12-24T04:53:08.449999",
     "status": "completed"
    },
    "tags": []
   },
   "outputs": [
    {
     "name": "stdout",
     "output_type": "stream",
     "text": [
      "0.8870666666666667\n",
      "0.8894666666666666\n"
     ]
    }
   ],
   "source": [
    "accuracy1 = accuracy_score(y_test,y_pred1)\n",
    "accuracy2 = accuracy_score(y_test,y_pred2)\n",
    "\n",
    "print(accuracy1)\n",
    "print(accuracy2)"
   ]
  },
  {
   "cell_type": "markdown",
   "id": "42a83f1b",
   "metadata": {
    "papermill": {
     "duration": 0.006775,
     "end_time": "2022-12-24T04:53:08.484859",
     "exception": false,
     "start_time": "2022-12-24T04:53:08.478084",
     "status": "completed"
    },
    "tags": []
   },
   "source": [
    "**Logistic regression model performane on test dataset**"
   ]
  },
  {
   "cell_type": "code",
   "execution_count": 22,
   "id": "60495a73",
   "metadata": {
    "execution": {
     "iopub.execute_input": "2022-12-24T04:53:08.500980Z",
     "iopub.status.busy": "2022-12-24T04:53:08.500542Z",
     "iopub.status.idle": "2022-12-24T04:53:08.505620Z",
     "shell.execute_reply": "2022-12-24T04:53:08.504459Z"
    },
    "papermill": {
     "duration": 0.016089,
     "end_time": "2022-12-24T04:53:08.508126",
     "exception": false,
     "start_time": "2022-12-24T04:53:08.492037",
     "status": "completed"
    },
    "tags": []
   },
   "outputs": [],
   "source": [
    "from sklearn.linear_model import LogisticRegression"
   ]
  },
  {
   "cell_type": "code",
   "execution_count": 23,
   "id": "df01613c",
   "metadata": {
    "execution": {
     "iopub.execute_input": "2022-12-24T04:53:08.524114Z",
     "iopub.status.busy": "2022-12-24T04:53:08.523659Z",
     "iopub.status.idle": "2022-12-24T05:03:29.401176Z",
     "shell.execute_reply": "2022-12-24T05:03:29.399738Z"
    },
    "papermill": {
     "duration": 620.889302,
     "end_time": "2022-12-24T05:03:29.404538",
     "exception": false,
     "start_time": "2022-12-24T04:53:08.515236",
     "status": "completed"
    },
    "tags": []
   },
   "outputs": [],
   "source": [
    "model_bow = LogisticRegression(max_iter=800).fit(X1_train, y_train)\n",
    "model_tfid = LogisticRegression(max_iter=800).fit(X2_train, y_train)\n",
    "\n",
    "y_pred1 = model_bow.predict(X1_test)  #using bag of words\n",
    "y_pred2 = model_tfid.predict(X2_test) #using tfid"
   ]
  },
  {
   "cell_type": "code",
   "execution_count": 24,
   "id": "47b3a795",
   "metadata": {
    "execution": {
     "iopub.execute_input": "2022-12-24T05:03:29.421838Z",
     "iopub.status.busy": "2022-12-24T05:03:29.420596Z",
     "iopub.status.idle": "2022-12-24T05:03:29.434493Z",
     "shell.execute_reply": "2022-12-24T05:03:29.432997Z"
    },
    "papermill": {
     "duration": 0.025483,
     "end_time": "2022-12-24T05:03:29.437591",
     "exception": false,
     "start_time": "2022-12-24T05:03:29.412108",
     "status": "completed"
    },
    "tags": []
   },
   "outputs": [
    {
     "name": "stdout",
     "output_type": "stream",
     "text": [
      "[[6656  865]\n",
      " [ 672 6807]]\n",
      "[[6485 1036]\n",
      " [ 659 6820]]\n"
     ]
    }
   ],
   "source": [
    "result_bow =confusion_matrix(y_test,y_pred1)\n",
    "result_tfid =confusion_matrix(y_test,y_pred2)\n",
    "\n",
    "print(result_bow)\n",
    "print(result_tfid)"
   ]
  },
  {
   "cell_type": "code",
   "execution_count": 25,
   "id": "c707a231",
   "metadata": {
    "execution": {
     "iopub.execute_input": "2022-12-24T05:03:29.453888Z",
     "iopub.status.busy": "2022-12-24T05:03:29.453437Z",
     "iopub.status.idle": "2022-12-24T05:03:29.462866Z",
     "shell.execute_reply": "2022-12-24T05:03:29.461522Z"
    },
    "papermill": {
     "duration": 0.02062,
     "end_time": "2022-12-24T05:03:29.465513",
     "exception": false,
     "start_time": "2022-12-24T05:03:29.444893",
     "status": "completed"
    },
    "tags": []
   },
   "outputs": [
    {
     "name": "stdout",
     "output_type": "stream",
     "text": [
      "0.8975333333333333\n",
      "0.887\n"
     ]
    }
   ],
   "source": [
    "accuracy1 = accuracy_score(y_test,y_pred1)\n",
    "accuracy2 = accuracy_score(y_test,y_pred2)\n",
    "\n",
    "print(accuracy1)\n",
    "print(accuracy2)"
   ]
  },
  {
   "cell_type": "code",
   "execution_count": null,
   "id": "11dc3198",
   "metadata": {
    "papermill": {
     "duration": 0.007492,
     "end_time": "2022-12-24T05:03:29.480667",
     "exception": false,
     "start_time": "2022-12-24T05:03:29.473175",
     "status": "completed"
    },
    "tags": []
   },
   "outputs": [],
   "source": []
  }
 ],
 "metadata": {
  "kernelspec": {
   "display_name": "Python 3 (ipykernel)",
   "language": "python",
   "name": "python3"
  },
  "language_info": {
   "codemirror_mode": {
    "name": "ipython",
    "version": 3
   },
   "file_extension": ".py",
   "mimetype": "text/x-python",
   "name": "python",
   "nbconvert_exporter": "python",
   "pygments_lexer": "ipython3",
   "version": "3.9.13"
  },
  "papermill": {
   "default_parameters": {},
   "duration": 2608.332909,
   "end_time": "2022-12-24T05:03:32.114096",
   "environment_variables": {},
   "exception": null,
   "input_path": "__notebook__.ipynb",
   "output_path": "__notebook__.ipynb",
   "parameters": {},
   "start_time": "2022-12-24T04:20:03.781187",
   "version": "2.3.4"
  }
 },
 "nbformat": 4,
 "nbformat_minor": 5
}
